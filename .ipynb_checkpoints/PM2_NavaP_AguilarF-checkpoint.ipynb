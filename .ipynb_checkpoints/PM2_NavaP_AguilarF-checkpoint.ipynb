{
 "cells": [
  {
   "cell_type": "markdown",
   "metadata": {},
   "source": [
    "# PROYECTO MÓDULO 2\n",
    "\n",
    "## Volumén de Hiperboloide"
   ]
  },
  {
   "cell_type": "markdown",
   "metadata": {},
   "source": [
    "### Objetivos:\n",
    "\n",
    "El objetivo general del proyecto es poder conocer el volumen que comprende un tazón de un paraboloide, mediante la integración de Montecarlo.\n",
    "\n",
    "Los objetivos especificos son:\n",
    "- Encontrar la inecuación del paraboloide para definir el volumen del tazón.\n",
    "- Escribir el código para aplicar el metodo de la integración de montecarlo al volumen.\n",
    "- Aplicar el código a un valor cada vez más alto de puntos aleatorios para tener un mejor estimado del volumen.\n",
    "- Comparar el volumen encontrado con el volumen real."
   ]
  },
  {
   "cell_type": "code",
   "execution_count": null,
   "metadata": {},
   "outputs": [],
   "source": []
  },
  {
   "cell_type": "code",
   "execution_count": null,
   "metadata": {},
   "outputs": [],
   "source": []
  }
 ],
 "metadata": {
  "kernelspec": {
   "display_name": "Python 3",
   "language": "python",
   "name": "python3"
  },
  "language_info": {
   "codemirror_mode": {
    "name": "ipython",
    "version": 3
   },
   "file_extension": ".py",
   "mimetype": "text/x-python",
   "name": "python",
   "nbconvert_exporter": "python",
   "pygments_lexer": "ipython3",
   "version": "3.7.3"
  }
 },
 "nbformat": 4,
 "nbformat_minor": 2
}
